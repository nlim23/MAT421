{
  "nbformat": 4,
  "nbformat_minor": 0,
  "metadata": {
    "colab": {
      "provenance": [],
      "authorship_tag": "ABX9TyNkc5r/LFiqgdNI7DIQNm+O",
      "include_colab_link": true
    },
    "kernelspec": {
      "name": "python3",
      "display_name": "Python 3"
    },
    "language_info": {
      "name": "python"
    }
  },
  "cells": [
    {
      "cell_type": "markdown",
      "metadata": {
        "id": "view-in-github",
        "colab_type": "text"
      },
      "source": [
        "<a href=\"https://colab.research.google.com/github/nlim23/MAT421/blob/main/MODULE_A.ipynb\" target=\"_parent\"><img src=\"https://colab.research.google.com/assets/colab-badge.svg\" alt=\"Open In Colab\"/></a>"
      ]
    },
    {
      "cell_type": "markdown",
      "source": [
        "##Base-N and Binary\n",
        "Decimal system - represents number from a digits 0 to 9 with each number representing a coefficient for a power of 10.\n",
        "\n",
        "Base10 - Each digit is related to the power of 10 and an example of a base10 is the decimal system.\n",
        "\n",
        "Binary - Base2 with the only digits being 0 & 1, this is normally used for computers. Binary digits are known as a bit.\n",
        "11(base 10)= 8 + 2 + 1 = 1⋅2^3 + 0⋅2^2 + 1⋅2^1 + 1⋅2^0 = 1011(base 2)\n",
        "\n"
      ],
      "metadata": {
        "id": "EBPBfAclwkxU"
      }
    },
    {
      "cell_type": "markdown",
      "source": [
        "##Floating Point Numbers\n",
        "Floating point numbers are base 2 fractions in computers. They assign bits to different characteristics such as the sign indicator (positive or negative), exponent (power of 2) and the fraction (the coefficient of the exponent).\n"
      ],
      "metadata": {
        "id": "rdZtJiPjwYB1"
      }
    },
    {
      "cell_type": "code",
      "source": [
        "import sys\n",
        "sys.float_info"
      ],
      "metadata": {
        "colab": {
          "base_uri": "https://localhost:8080/"
        },
        "id": "Khn2R9-gwjND",
        "outputId": "b44968ff-e9be-4f5e-e8a5-6446591ae1b5"
      },
      "execution_count": null,
      "outputs": [
        {
          "output_type": "execute_result",
          "data": {
            "text/plain": [
              "sys.float_info(max=1.7976931348623157e+308, max_exp=1024, max_10_exp=308, min=2.2250738585072014e-308, min_exp=-1021, min_10_exp=-307, dig=15, mant_dig=53, epsilon=2.220446049250313e-16, radix=2, rounds=1)"
            ]
          },
          "metadata": {},
          "execution_count": 9
        }
      ]
    },
    {
      "cell_type": "code",
      "source": [
        "import numpy as np\n",
        "np.spacing(1e9)\n",
        "1e9 == (1e9 + np.spacing(1e9)/3)"
      ],
      "metadata": {
        "colab": {
          "base_uri": "https://localhost:8080/"
        },
        "id": "hDOKvEDkC2qm",
        "outputId": "89b4a635-92ef-432c-eda5-a5b188ef0ae4"
      },
      "execution_count": null,
      "outputs": [
        {
          "output_type": "execute_result",
          "data": {
            "text/plain": [
              "True"
            ]
          },
          "metadata": {},
          "execution_count": 10
        }
      ]
    },
    {
      "cell_type": "markdown",
      "source": [
        "##Round-off Errors\n",
        "Floating point numbers are not stored with perfect precision, so the round off error is the difference between the approximation and the true value."
      ],
      "metadata": {
        "id": "3dHnnne1wYMI"
      }
    },
    {
      "cell_type": "code",
      "source": [
        "4.9 - 4.845 == 0.055"
      ],
      "metadata": {
        "colab": {
          "base_uri": "https://localhost:8080/"
        },
        "id": "qayMtfNNwpKA",
        "outputId": "596c5e80-e5c3-4a73-9c98-0f1f5118a22f"
      },
      "execution_count": null,
      "outputs": [
        {
          "output_type": "execute_result",
          "data": {
            "text/plain": [
              "False"
            ]
          },
          "metadata": {},
          "execution_count": 12
        }
      ]
    },
    {
      "cell_type": "code",
      "source": [
        "4.9 - 4.845"
      ],
      "metadata": {
        "colab": {
          "base_uri": "https://localhost:8080/"
        },
        "id": "3rD0WkJWEM2f",
        "outputId": "2e4d9222-9bd5-4d8c-fbf4-40eafd172dbf"
      },
      "execution_count": null,
      "outputs": [
        {
          "output_type": "execute_result",
          "data": {
            "text/plain": [
              "0.055000000000000604"
            ]
          },
          "metadata": {},
          "execution_count": 14
        }
      ]
    }
  ]
}