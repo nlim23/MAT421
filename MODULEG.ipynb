{
  "nbformat": 4,
  "nbformat_minor": 0,
  "metadata": {
    "colab": {
      "provenance": [],
      "authorship_tag": "ABX9TyN+pXao5KWGEPgiyanoti8f",
      "include_colab_link": true
    },
    "kernelspec": {
      "name": "python3",
      "display_name": "Python 3"
    },
    "language_info": {
      "name": "python"
    }
  },
  "cells": [
    {
      "cell_type": "markdown",
      "metadata": {
        "id": "view-in-github",
        "colab_type": "text"
      },
      "source": [
        "<a href=\"https://colab.research.google.com/github/nlim23/MAT421/blob/main/MODULEG.ipynb\" target=\"_parent\"><img src=\"https://colab.research.google.com/assets/colab-badge.svg\" alt=\"Open In Colab\"/></a>"
      ]
    },
    {
      "cell_type": "markdown",
      "source": [
        "##Numerical Integration Problem Statement\n",
        "With the intent to approximate the integral of the funtion f(x) over the interval [a, b].\n",
        "\n",
        "$∫_a^b f(x)dx$\n",
        "\n",
        "There are different methods to approximate the area under f(x) by computing the area through shapes of the subintervals and summing up the total subintervals."
      ],
      "metadata": {
        "id": "9tBd3hdCbLHA"
      }
    },
    {
      "cell_type": "markdown",
      "source": [
        "##Riemann’s Integral\n",
        "The simpliest method of approximating the integrals by making the subintervals into rectangles and summing the areas up.\n",
        "The Riemann Integral approximation is (depending on the left or right endpoint)\n",
        "\n",
        "$∫_a^b f(x)dx = ∑_{i=1}^n h(fx_i)$\n",
        "\n",
        "or\n",
        "\n",
        "$∫_a^b f(x)dx = ∑_{i=0}^{n-1} h(fx_i)$"
      ],
      "metadata": {
        "id": "rFppSsDylmlV"
      }
    },
    {
      "cell_type": "code",
      "source": [
        "import numpy as np\n",
        "\n",
        "a = 0\n",
        "b = np.pi\n",
        "n = 11\n",
        "h = (b - a) / (n - 1)\n",
        "x = np.linspace(a, b, n)\n",
        "f = np.sin(x)\n",
        "\n",
        "I_riemannL = h * sum(f[:n-1])\n",
        "err_riemannL = 2 - I_riemannL\n",
        "\n",
        "I_riemannR = h * sum(f[1::])\n",
        "err_riemannR = 2 - I_riemannR\n",
        "\n",
        "I_mid = h * sum(np.sin((x[:n-1] \\\n",
        "        + x[1:])/2))\n",
        "err_mid = 2 - I_mid\n",
        "\n",
        "print(I_riemannL)\n",
        "print(err_riemannL)\n",
        "\n",
        "print(I_riemannR)\n",
        "print(err_riemannR)\n",
        "\n",
        "print(I_mid)\n",
        "print(err_mid)"
      ],
      "metadata": {
        "colab": {
          "base_uri": "https://localhost:8080/"
        },
        "id": "z1wVCLI0omwQ",
        "outputId": "dea644ce-a205-4d32-b275-b3cd08653f78"
      },
      "execution_count": 1,
      "outputs": [
        {
          "output_type": "stream",
          "name": "stdout",
          "text": [
            "1.9835235375094546\n",
            "0.01647646249054535\n",
            "1.9835235375094546\n",
            "0.01647646249054535\n",
            "2.0082484079079745\n",
            "-0.008248407907974542\n"
          ]
        }
      ]
    },
    {
      "cell_type": "markdown",
      "source": [
        "##Trapezoid Rule\n",
        "Similar to the Riemann's integral instead of rectangle, the Trapezoid Rule fits a trapezoid into each subinterval.\n",
        "$∫_a^b f(x)dx = ∑_{i=0}^{n-1}\\frac{f(x_i)+f(x_{i+1})}{2}$\n",
        "\n"
      ],
      "metadata": {
        "id": "uvElhbFQlm6x"
      }
    },
    {
      "cell_type": "code",
      "source": [
        "import numpy as np\n",
        "\n",
        "a = 0\n",
        "b = np.pi\n",
        "n = 11\n",
        "h = (b - a) / (n - 1)\n",
        "x = np.linspace(a, b, n)\n",
        "f = np.sin(x)\n",
        "\n",
        "I_trap = (h/2)*(f[0] + \\\n",
        "          2 * sum(f[1:n-1]) + f[n-1])\n",
        "err_trap = 2 - I_trap\n",
        "\n",
        "print(I_trap)\n",
        "print(err_trap)"
      ],
      "metadata": {
        "id": "5coWnGZWtP5Y",
        "outputId": "91514dbd-75d3-49ae-bef9-a268642965ac",
        "colab": {
          "base_uri": "https://localhost:8080/"
        }
      },
      "execution_count": 2,
      "outputs": [
        {
          "output_type": "stream",
          "name": "stdout",
          "text": [
            "1.9835235375094546\n",
            "0.01647646249054535\n"
          ]
        }
      ]
    }
  ]
}